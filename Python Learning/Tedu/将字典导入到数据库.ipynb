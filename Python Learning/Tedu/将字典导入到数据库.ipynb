{
 "cells": [
  {
   "cell_type": "code",
   "execution_count": 9,
   "id": "bc3deaa5-24b9-424a-b292-b1741f9e93dd",
   "metadata": {
    "tags": []
   },
   "outputs": [
    {
     "name": "stdout",
     "output_type": "stream",
     "text": [
      "['a', '', '', '', '', '', '', '', '', '', '', '', '', '', '', '', 'indef', 'art', 'one\\n']\n",
      "a\n",
      "indef art one\n"
     ]
    }
   ],
   "source": [
    "with open('dict.txt') as f:\n",
    "    lines = f.readlines()\n",
    "    \n",
    "for line in lines:\n",
    "    line = line.split(' ')\n",
    "    word = line[0]\n",
    "    mean = ' '.join(line[1: ]).strip()\n",
    "    print(line)\n",
    "    print(word)\n",
    "    print(mean)\n",
    "    break"
   ]
  },
  {
   "cell_type": "code",
   "execution_count": 12,
   "id": "595e8c32-2621-4966-8dca-de5872125f22",
   "metadata": {
    "tags": []
   },
   "outputs": [
    {
     "name": "stdout",
     "output_type": "stream",
     "text": [
      "('a', 'indef art one')\n"
     ]
    }
   ],
   "source": [
    "import re\n",
    "\n",
    "with open('dict.txt') as f:\n",
    "    lines = f.readlines()\n",
    "    \n",
    "for line in lines:\n",
    "    '''\n",
    "    匹配单词：(\\S+)\n",
    "    匹配空格：\\s+\n",
    "    匹配解释：(.*)\n",
    "    '''\n",
    "    tup = re.findall(r'(\\S+)\\s+(.*)', line)[0]\n",
    "    print(tup)\n",
    "    break"
   ]
  },
  {
   "cell_type": "code",
   "execution_count": 14,
   "id": "34ec1757-e467-4485-87d1-2c88cfd557ad",
   "metadata": {
    "tags": []
   },
   "outputs": [
    {
     "name": "stdout",
     "output_type": "stream",
     "text": [
      "数据导入完毕，总耗时： 7.565347671508789\n"
     ]
    }
   ],
   "source": [
    "import pymysql\n",
    "import re\n",
    "import time\n",
    "\n",
    "\n",
    "# 连接数据库\n",
    "db = pymysql.connect(host='localhost',\n",
    "                     port=3306,\n",
    "                     user='root',\n",
    "                     password='wht2010@',\n",
    "                     database='dict',\n",
    "                     charset='utf8')\n",
    "# 获取游标\n",
    "cur = db.cursor()\n",
    "\n",
    "with open('dict.txt') as f:\n",
    "    lines = f.readlines()\n",
    "    \n",
    "start = time.time()\n",
    "for line in lines:\n",
    "    '''\n",
    "    匹配单词：(\\S+)\n",
    "    匹配空格：\\s+\n",
    "    匹配解释：(.*)\n",
    "    取出元组：[0]\n",
    "    '''\n",
    "    tup = re.findall(r'(\\S+)\\s+(.*)', line)[0]\n",
    "    \n",
    "    # 编写sql语句\n",
    "    sql = \"insert into words (word, mean) values (%s, %s)\"\n",
    "    \n",
    "    try:\n",
    "        cur.execute(sql, tup)\n",
    "        db.commit()\n",
    "    except:\n",
    "        db.rollback()\n",
    "print('数据导入完毕，总耗时：', time.time() - start)\n",
    "\n",
    "\n",
    "# 关闭数据库\n",
    "cur.close()\n",
    "db.close()"
   ]
  },
  {
   "cell_type": "code",
   "execution_count": null,
   "id": "df1cf2e3-df94-4d31-9b45-553de041f126",
   "metadata": {},
   "outputs": [],
   "source": []
  }
 ],
 "metadata": {
  "kernelspec": {
   "display_name": "Python 3 (ipykernel)",
   "language": "python",
   "name": "python3"
  },
  "language_info": {
   "codemirror_mode": {
    "name": "ipython",
    "version": 3
   },
   "file_extension": ".py",
   "mimetype": "text/x-python",
   "name": "python",
   "nbconvert_exporter": "python",
   "pygments_lexer": "ipython3",
   "version": "3.11.4"
  }
 },
 "nbformat": 4,
 "nbformat_minor": 5
}
