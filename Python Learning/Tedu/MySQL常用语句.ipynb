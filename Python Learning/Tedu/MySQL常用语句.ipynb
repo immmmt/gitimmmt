{
 "cells": [
  {
   "cell_type": "markdown",
   "id": "69d79e1a",
   "metadata": {},
   "source": [
    "# 数据库操作语句"
   ]
  },
  {
   "cell_type": "raw",
   "id": "59e2e4f9-67af-4b9a-8521-6ac984fce384",
   "metadata": {},
   "source": [
    "--查看所有数据库\n",
    "show databases;\n",
    "\n",
    "--创建数据库\n",
    "create database db_name;\n",
    "\n",
    "-- 查看当前使用的数据库\n",
    "select database();\n",
    "\n",
    "--查看数据库创建时的方法\n",
    "show create database db_name;\n",
    "\n",
    "--切换使用数据库\n",
    "use db_name;\n",
    "\n",
    "--删除数据库\n",
    "drop database db_name;"
   ]
  },
  {
   "cell_type": "markdown",
   "id": "823d971d-990b-4d80-a24d-9d397c7d8739",
   "metadata": {},
   "source": [
    "# 数据表操作语句"
   ]
  },
  {
   "cell_type": "raw",
   "id": "bcb77dab-e7ca-4683-8636-af2845385bc8",
   "metadata": {},
   "source": [
    "--查看所有的表\n",
    "show tables;\n",
    "\n",
    "--创建数据表\n",
    "create table tb_name (column1 type,……);\n",
    "    字段的描述：\n",
    "        primary key\n",
    "        unsigned\n",
    "        not null\n",
    "        default\n",
    "    数字类型：\n",
    "        数字（整数，小数，布尔）\n",
    "        字符串（char、varchar、blob、text、enum、set）\n",
    "        时间日期\n",
    "        \n",
    "--查看表结构\n",
    "desc tb_name;\n",
    "\n",
    "--查看表创建时的方法\n",
    "show create table tb_name;\n",
    "\n",
    "--删除表\n",
    "drop table tb_name;"
   ]
  },
  {
   "cell_type": "markdown",
   "id": "fcd643f8-e534-44b2-8a73-9ced27fba51b",
   "metadata": {},
   "source": [
    "# 增删改查"
   ]
  },
  {
   "cell_type": "raw",
   "id": "a4ebdc7f-ff6a-40d3-a9c7-5f95a3568681",
   "metadata": {},
   "source": [
    "--插入数据\n",
    "insert into tb_name (column,……) values(value,……)\n",
    "\n",
    "--删除表数据\n",
    "delete from table where ……;\n",
    "\n",
    "--更新表数据\n",
    "update tb_name set ... where ....;\n",
    "\n",
    "--查看表数据\n",
    "select [col,……] from tb_name where ...;\n",
    "\n",
    "where子句 : 算数、逻辑、比较、位运算"
   ]
  },
  {
   "cell_type": "markdown",
   "id": "79b20495-bb83-43f9-a9b0-567ee8a4bed5",
   "metadata": {},
   "source": [
    "# 表结构修改"
   ]
  },
  {
   "cell_type": "raw",
   "id": "252decaf-f282-4394-8d56-a83f5a4508c4",
   "metadata": {},
   "source": [
    "alter table tb_name add 增加\n",
    "                    drop 删除\n",
    "                    modify 修改\n",
    "                    change 更新\n",
    "                    rename 重命名"
   ]
  },
  {
   "cell_type": "code",
   "execution_count": null,
   "id": "93389483-1506-4124-a957-72124583962f",
   "metadata": {},
   "outputs": [],
   "source": []
  }
 ],
 "metadata": {
  "kernelspec": {
   "display_name": "Python 3 (ipykernel)",
   "language": "python",
   "name": "python3"
  },
  "language_info": {
   "codemirror_mode": {
    "name": "ipython",
    "version": 3
   },
   "file_extension": ".py",
   "mimetype": "text/x-python",
   "name": "python",
   "nbconvert_exporter": "python",
   "pygments_lexer": "ipython3",
   "version": "3.11.4"
  },
  "toc-autonumbering": true
 },
 "nbformat": 4,
 "nbformat_minor": 5
}
