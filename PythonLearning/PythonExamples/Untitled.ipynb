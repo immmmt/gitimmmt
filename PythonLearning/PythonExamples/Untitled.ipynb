{
 "cells": [
  {
   "cell_type": "code",
   "execution_count": null,
   "id": "2d0ef623-e041-4143-83a7-3432ea9ea31d",
   "metadata": {},
   "outputs": [],
   "source": [
    "灵石\n",
    "13*210000=2730000哇\n",
    "273*0.3=81.9万比例\n",
    "5*210000=1050000\n",
    "81.9+105=186.9万哇\n",
    "1869000/4250≈439.76包\n",
    "灵石多整点，应该500包差不多，你回来看看"
   ]
  },
  {
   "cell_type": "code",
   "execution_count": null,
   "id": "65367d0c-5bf7-474f-89e7-3571dc083f0f",
   "metadata": {},
   "outputs": [],
   "source": [
    "100点金石\n",
    "100熔炉加速卷\n",
    "600哇币竞技卡\n",
    "500灵石"
   ]
  },
  {
   "cell_type": "code",
   "execution_count": null,
   "id": "2400d25e-3763-489a-a63a-09ecf4588b80",
   "metadata": {},
   "outputs": [],
   "source": [
    "总哇币：2730000\n",
    "100,210000买点金石\n",
    "100,210000买熔炉加速券\n",
    "600,1260000买哇币竞技卡，630包\n",
    "500,1050000买灵石，247包\n",
    "\n",
    "赠送额度：819000，兑换灵石192包\n",
    "\n",
    "哇卡：630包\n",
    "灵石：439包，给你凑整500包\n",
    "\n"
   ]
  }
 ],
 "metadata": {
  "kernelspec": {
   "display_name": "Python 3 (ipykernel)",
   "language": "python",
   "name": "python3"
  },
  "language_info": {
   "codemirror_mode": {
    "name": "ipython",
    "version": 3
   },
   "file_extension": ".py",
   "mimetype": "text/x-python",
   "name": "python",
   "nbconvert_exporter": "python",
   "pygments_lexer": "ipython3",
   "version": "3.11.4"
  }
 },
 "nbformat": 4,
 "nbformat_minor": 5
}
