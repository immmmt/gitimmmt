{
 "cells": [
  {
   "cell_type": "markdown",
   "id": "b36fb9d8-5944-4607-b282-f4dfe324a65c",
   "metadata": {},
   "source": [
    "下面是一个使用Python编写的案例，演示了如何读取和写入文件，并对文件内容进行一些简单的处理。"
   ]
  },
  {
   "cell_type": "code",
   "execution_count": null,
   "id": "bc9aeb63-b59e-46bc-8316-859811455af7",
   "metadata": {},
   "outputs": [],
   "source": [
    "# 打开文件\n",
    "file = open(\"example.txt\", \"r\")\n",
    "\n",
    "# 读取文件内容\n",
    "content = file.read()\n",
    "\n",
    "# 关闭文件\n",
    "file.close()\n",
    "\n",
    "# 将文件内容转换为大写\n",
    "content_upper = content.upper()\n",
    "\n",
    "# 打开文件以写入模式\n",
    "file = open(\"example_upper.txt\", \"w\")\n",
    "\n",
    "# 将大写内容写入文件\n",
    "file.write(content_upper)\n",
    "\n",
    "# 关闭文件\n",
    "file.close()\n",
    "\n",
    "# 打开新文件以读取模式\n",
    "file = open(\"example_upper.txt\", \"r\")\n",
    "\n",
    "# 读取新文件内容\n",
    "new_content = file.read()\n",
    "\n",
    "# 关闭文件\n",
    "file.close()\n",
    "\n",
    "# 打印新文件内容\n",
    "print(new_content)"
   ]
  }
 ],
 "metadata": {
  "kernelspec": {
   "display_name": "Python 3 (ipykernel)",
   "language": "python",
   "name": "python3"
  },
  "language_info": {
   "codemirror_mode": {
    "name": "ipython",
    "version": 3
   },
   "file_extension": ".py",
   "mimetype": "text/x-python",
   "name": "python",
   "nbconvert_exporter": "python",
   "pygments_lexer": "ipython3",
   "version": "3.11.4"
  }
 },
 "nbformat": 4,
 "nbformat_minor": 5
}
