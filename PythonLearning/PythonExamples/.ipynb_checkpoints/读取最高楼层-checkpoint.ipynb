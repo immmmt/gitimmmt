{
 "cells": [
  {
   "cell_type": "code",
   "execution_count": 26,
   "id": "87fb7d5f-0d8f-443e-afbc-06d5d46a9eda",
   "metadata": {
    "tags": []
   },
   "outputs": [],
   "source": [
    "import re\n",
    "import requests\n",
    "import pandas as pd\n",
    "from datetime import date \n",
    "\n",
    "\n",
    "data = []\n",
    "for page in range(1, 9):\n",
    "    url = f'https://tx.com.cn/plugins/gold/towerRank.do?&z=0iOcPKxjMk&type=1&pn={page}'\n",
    "\n",
    "    res = requests.get(url).text\n",
    "    # print(res)\n",
    "    data.extend(re.findall(r'\\((\\d+)\\)</a>(\\d+)<br/>', res))\n",
    "    \n",
    "df = pd.DataFrame(data, columns=['uid', 'lever'])\n",
    "\n",
    "today = date.today()\n",
    "name = str(today.year) + '-' + str(today.day) + '.xlsx'\n",
    "df.to_excel(name, index=False)"
   ]
  },
  {
   "cell_type": "code",
   "execution_count": 22,
   "id": "dd82c994-9250-4ce4-a916-49f5cdf9d276",
   "metadata": {
    "tags": []
   },
   "outputs": [
    {
     "data": {
      "text/plain": [
       "(2023, 17)"
      ]
     },
     "execution_count": 22,
     "metadata": {},
     "output_type": "execute_result"
    }
   ],
   "source": [
    "from datetime import date \n",
    "today = date.today()\n",
    "today.year, today.day"
   ]
  },
  {
   "cell_type": "code",
   "execution_count": 23,
   "id": "dd73d9e8-d01e-464f-8710-ca3e44d2eb53",
   "metadata": {
    "tags": []
   },
   "outputs": [
    {
     "data": {
      "text/plain": [
       "'2023-17'"
      ]
     },
     "execution_count": 23,
     "metadata": {},
     "output_type": "execute_result"
    }
   ],
   "source": [
    "str(today.year) + '-' + str(today.day)"
   ]
  },
  {
   "cell_type": "code",
   "execution_count": null,
   "id": "95736770-c670-4cc3-8d34-ec298c8663bd",
   "metadata": {},
   "outputs": [],
   "source": []
  }
 ],
 "metadata": {
  "kernelspec": {
   "display_name": "Python 3 (ipykernel)",
   "language": "python",
   "name": "python3"
  },
  "language_info": {
   "codemirror_mode": {
    "name": "ipython",
    "version": 3
   },
   "file_extension": ".py",
   "mimetype": "text/x-python",
   "name": "python",
   "nbconvert_exporter": "python",
   "pygments_lexer": "ipython3",
   "version": "3.11.4"
  }
 },
 "nbformat": 4,
 "nbformat_minor": 5
}
