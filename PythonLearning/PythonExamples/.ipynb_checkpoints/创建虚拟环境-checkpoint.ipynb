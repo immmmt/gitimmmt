{
 "cells": [
  {
   "cell_type": "code",
   "execution_count": null,
   "id": "875a493e-f2ef-407a-aa30-e88745bffa37",
   "metadata": {},
   "outputs": [],
   "source": [
    "1.conda create -n tensorflow python=3.11\n",
    "2.activate tensorflow\n",
    "3.conda deactivate"
   ]
  }
 ],
 "metadata": {
  "kernelspec": {
   "display_name": "Python 3 (ipykernel)",
   "language": "python",
   "name": "python3"
  },
  "language_info": {
   "codemirror_mode": {
    "name": "ipython",
    "version": 3
   },
   "file_extension": ".py",
   "mimetype": "text/x-python",
   "name": "python",
   "nbconvert_exporter": "python",
   "pygments_lexer": "ipython3",
   "version": "3.11.4"
  }
 },
 "nbformat": 4,
 "nbformat_minor": 5
}
