{
 "cells": [
  {
   "cell_type": "markdown",
   "id": "8e6aecde-16d6-4bb9-bd22-19d9a0baf739",
   "metadata": {},
   "source": [
    "以下是一个简单的Python多线程应用案例，用于计算斐波那契数列的前n个数字："
   ]
  },
  {
   "cell_type": "code",
   "execution_count": 1,
   "id": "25510685-cd17-42f6-8b95-4d366a5ccddf",
   "metadata": {
    "tags": []
   },
   "outputs": [
    {
     "name": "stdout",
     "output_type": "stream",
     "text": [
      "Fibonacci sequence of 10 numbers: [0, 1, 1, 2, 3, 5, 8, 13, 21, 34]\n",
      "Fibonacci sequence of 10 numbers: [0, 1, 1, 2, 3, 5, 8, 13, 21, 34]\n",
      "Done.\n"
     ]
    }
   ],
   "source": [
    "import threading\n",
    "\n",
    "def fibonacci(n):\n",
    "    fib = [0, 1]\n",
    "    for i in range(2, n):\n",
    "        fib.append(fib[i-1] + fib[i-2])\n",
    "    return fib\n",
    "\n",
    "def calculate_fibonacci(n):\n",
    "    result = fibonacci(n)\n",
    "    print(f\"Fibonacci sequence of {n} numbers: {result}\")\n",
    "\n",
    "if __name__ == \"__main__\":\n",
    "    n = 10\n",
    "\n",
    "    # 创建两个线程，分别计算斐波那契数列的前n个数字\n",
    "    thread1 = threading.Thread(target=calculate_fibonacci, args=(n,))\n",
    "    thread2 = threading.Thread(target=calculate_fibonacci, args=(n,))\n",
    "\n",
    "    # 启动线程\n",
    "    thread1.start()\n",
    "    thread2.start()\n",
    "\n",
    "    # 等待线程结束\n",
    "    thread1.join()\n",
    "    thread2.join()\n",
    "\n",
    "    print(\"Done.\")"
   ]
  },
  {
   "cell_type": "code",
   "execution_count": 6,
   "id": "a897f5cb-6b01-4a89-9198-10008296dd2e",
   "metadata": {
    "tags": []
   },
   "outputs": [
    {
     "name": "stdout",
     "output_type": "stream",
     "text": [
      "Fibonacci sequence of 10 numbers: [0, 1, 1, 2, 3, 5, 8, 13, 21, 34]\n",
      "Fibonacci sequence of 10 numbers: [0, 1, 1, 2, 3, 5, 8, 13, 21, 34]\n",
      "Done.\n",
      "耗时： 0.0009996891021728516\n"
     ]
    }
   ],
   "source": [
    "import threading\n",
    "import time\n",
    "\n",
    "\n",
    "def fibonacci(n):\n",
    "    fib = [0, 1]\n",
    "    for i in range(2, n):\n",
    "        fib.append(fib[i-1] + fib[i-2])\n",
    "    return fib\n",
    "\n",
    "def calculate_fibonacci(n):\n",
    "    result = fibonacci(n)\n",
    "    print(f\"Fibonacci sequence of {n} numbers: {result}\")\n",
    "\n",
    "if __name__ == \"__main__\":\n",
    "    n = 10\n",
    "    start = time.time()\n",
    "    # 创建两个线程，分别计算斐波那契数列的前n个数字\n",
    "    thread1 = threading.Thread(target=calculate_fibonacci, args=(n,))\n",
    "    thread2 = threading.Thread(target=calculate_fibonacci, args=(n,))\n",
    "\n",
    "    # 启动线程\n",
    "    thread1.start()\n",
    "    thread2.start()\n",
    "\n",
    "    # 等待线程结束\n",
    "    thread1.join()\n",
    "    thread2.join()\n",
    "\n",
    "    print(\"Done.\")\n",
    "    print('耗时：', time.time() - start)"
   ]
  },
  {
   "cell_type": "code",
   "execution_count": 4,
   "id": "73cb46bf-dc2a-42c0-9e40-81d0892c2fbe",
   "metadata": {
    "tags": []
   },
   "outputs": [
    {
     "name": "stdout",
     "output_type": "stream",
     "text": [
      "Done.\n",
      "耗时： 0.07260823249816895\n"
     ]
    }
   ],
   "source": [
    "import multiprocessing\n",
    "import time\n",
    "\n",
    "\n",
    "def fibonacci(n):\n",
    "    fib = [0, 1]\n",
    "    for i in range(2, n):\n",
    "        fib.append(fib[i-1] + fib[i-2])\n",
    "    return fib\n",
    "\n",
    "def calculate_fibonacci(n):\n",
    "    result = fibonacci(n)\n",
    "    print(f\"Fibonacci sequence of {n} numbers: {result}\")\n",
    "\n",
    "if __name__ == \"__main__\":\n",
    "    n = 100\n",
    "    start = time.time()\n",
    "    # 创建两个进程，分别计算斐波那契数列的前n个数字\n",
    "    process1 = multiprocessing.Process(target=calculate_fibonacci, args=(n,))\n",
    "    process2 = multiprocessing.Process(target=calculate_fibonacci, args=(n,))\n",
    "\n",
    "    # 启动进程\n",
    "    process1.start()\n",
    "    process2.start()\n",
    "\n",
    "    # 等待进程结束\n",
    "    process1.join()\n",
    "    process2.join()\n",
    "\n",
    "    print(\"Done.\")\n",
    "    print('耗时：', time.time() - start)"
   ]
  },
  {
   "cell_type": "code",
   "execution_count": null,
   "id": "41e63300-13c5-46e9-b623-510b417d40ff",
   "metadata": {},
   "outputs": [],
   "source": [
    "import threading\n",
    "\n",
    "def fibonacci(n):\n",
    "    fib = [0, 1]\n",
    "    for i in range(2, n):\n",
    "        fib.append(fib[i-1] + fib[i-2])\n",
    "    print(f\"Fibonacci sequence of {n} numbers: {result}\")\n",
    "\n",
    "def calculate_fibonacci(n):\n",
    "    result = fibonacci(n)\n",
    "    print(f\"Fibonacci sequence of {n} numbers: {result}\")\n",
    "\n",
    "if __name__ == \"__main__\":\n",
    "    n = 10\n",
    "\n",
    "    # 创建两个线程，分别计算斐波那契数列的前n个数字\n",
    "    thread1 = threading.Thread(target=calculate_fibonacci, args=(n,))\n",
    "    thread2 = threading.Thread(target=calculate_fibonacci, args=(n,))\n",
    "\n",
    "    # 启动线程\n",
    "    thread1.start()\n",
    "    thread2.start()\n",
    "\n",
    "    # 等待线程结束\n",
    "    thread1.join()\n",
    "    thread2.join()\n",
    "\n",
    "    print(\"Done.\")"
   ]
  }
 ],
 "metadata": {
  "kernelspec": {
   "display_name": "Python 3 (ipykernel)",
   "language": "python",
   "name": "python3"
  },
  "language_info": {
   "codemirror_mode": {
    "name": "ipython",
    "version": 3
   },
   "file_extension": ".py",
   "mimetype": "text/x-python",
   "name": "python",
   "nbconvert_exporter": "python",
   "pygments_lexer": "ipython3",
   "version": "3.11.4"
  }
 },
 "nbformat": 4,
 "nbformat_minor": 5
}
