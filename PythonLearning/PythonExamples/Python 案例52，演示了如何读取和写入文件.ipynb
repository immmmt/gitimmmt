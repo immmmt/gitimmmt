{
 "cells": [
  {
   "cell_type": "markdown",
   "id": "b36fb9d8-5944-4607-b282-f4dfe324a65c",
   "metadata": {},
   "source": [
    "下面是一个使用Python编写的案例，演示了如何读取和写入文件，并对文件内容进行一些简单的处理。"
   ]
  },
  {
   "cell_type": "code",
   "execution_count": null,
   "id": "bc9aeb63-b59e-46bc-8316-859811455af7",
   "metadata": {},
   "outputs": [],
   "source": [
    "# 打开文件\n",
    "file = open(\"example.txt\", \"r\")\n",
    "\n",
    "# 读取文件内容\n",
    "content = file.read()\n",
    "\n",
    "# 关闭文件\n",
    "file.close()\n",
    "\n",
    "# 将文件内容转换为大写\n",
    "content_upper = content.upper()\n",
    "\n",
    "# 打开文件以写入模式\n",
    "file = open(\"example_upper.txt\", \"w\")\n",
    "\n",
    "# 将大写内容写入文件\n",
    "file.write(content_upper)\n",
    "\n",
    "# 关闭文件\n",
    "file.close()\n",
    "\n",
    "# 打开新文件以读取模式\n",
    "file = open(\"example_upper.txt\", \"r\")\n",
    "\n",
    "# 读取新文件内容\n",
    "new_content = file.read()\n",
    "\n",
    "# 关闭文件\n",
    "file.close()\n",
    "\n",
    "# 打印新文件内容\n",
    "print(new_content)"
   ]
  },
  {
   "cell_type": "markdown",
   "id": "f1637b59-5e18-4084-ac20-6024041832d5",
   "metadata": {},
   "source": [
    "在这个案例中，我们首先使用open()函数打开一个名为example.txt的文件，并以读取模式打开它。然后，我们使用read()方法读取文件的内容，并将其存储在变量content中。接下来，我们关闭文件。\n",
    "\n",
    "然后，我们将文件内容转换为大写，并将结果存储在变量content_upper中。\n",
    "\n",
    "接下来，我们使用open()函数打开一个名为example_upper.txt的新文件，并以写入模式打开它。然后，我们使用write()方法将大写内容写入新文件中。最后，我们关闭文件。\n",
    "\n",
    "然后，我们再次使用open()函数打开新文件，但这次是以读取模式打开它。然后，我们使用read()方法读取新文件的内容，并将其存储在变量new_content中。最后，我们关闭文件。\n",
    "\n",
    "最后，我们使用print()函数打印出新文件的内容。\n",
    "\n",
    "这个案例演示了如何读取文件、对文件内容进行处理，并将处理后的结果写入新文件中。请注意，这只是一个简单的示例，用于演示文件读写的基本操作。在实际的应用程序中，您可能需要处理更复杂的文件操作，例如处理大型文件、处理异常等。"
   ]
  },
  {
   "cell_type": "code",
   "execution_count": null,
   "id": "c7b95acd-8f3f-4981-9a34-d60d93154046",
   "metadata": {},
   "outputs": [],
   "source": []
  }
 ],
 "metadata": {
  "kernelspec": {
   "display_name": "Python 3 (ipykernel)",
   "language": "python",
   "name": "python3"
  },
  "language_info": {
   "codemirror_mode": {
    "name": "ipython",
    "version": 3
   },
   "file_extension": ".py",
   "mimetype": "text/x-python",
   "name": "python",
   "nbconvert_exporter": "python",
   "pygments_lexer": "ipython3",
   "version": "3.11.4"
  }
 },
 "nbformat": 4,
 "nbformat_minor": 5
}
