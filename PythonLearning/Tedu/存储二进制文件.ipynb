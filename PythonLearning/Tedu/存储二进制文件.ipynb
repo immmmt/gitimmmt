{
 "cells": [
  {
   "cell_type": "markdown",
   "id": "c529b4ae-23a5-4c44-9807-3d27af00dfae",
   "metadata": {},
   "source": [
    "# 存储图片"
   ]
  },
  {
   "cell_type": "code",
   "execution_count": 2,
   "id": "4d489a0f-bd49-4f34-9a75-3eecede7e2f4",
   "metadata": {
    "tags": []
   },
   "outputs": [],
   "source": [
    "import pymysql\n",
    "import re\n",
    "import time\n",
    "\n",
    "\n",
    "# 连接数据库\n",
    "db = pymysql.connect(host='localhost',\n",
    "                     port=3306,\n",
    "                     user='root',\n",
    "                     password='wht2010@',\n",
    "                     database='stu',\n",
    "                     charset='utf8')\n",
    "# 获取游标\n",
    "cur = db.cursor()\n",
    "with open('lufei.png', 'rb') as f:\n",
    "    data = f.read()\n",
    "    \n",
    "try:\n",
    "    sql = \"update class set image = %s where name = 'imaitian'\"\n",
    "    cur.execute(sql, [data])\n",
    "    db.commit()\n",
    "except Exception as e:\n",
    "    db.rollback()\n",
    "    print(e)\n",
    "    \n",
    "cur.close()\n",
    "db.close()"
   ]
  },
  {
   "cell_type": "markdown",
   "id": "cf48b520-b1ae-4587-996d-f13238e546ed",
   "metadata": {},
   "source": [
    "# 提取图片"
   ]
  },
  {
   "cell_type": "code",
   "execution_count": 4,
   "id": "e41c5ecb-7cd0-4464-8f52-5988e05429d9",
   "metadata": {
    "tags": []
   },
   "outputs": [],
   "source": [
    "import pymysql\n",
    "\n",
    "# 连接数据库\n",
    "db = pymysql.connect(host='localhost',\n",
    "                     port=3306,\n",
    "                     user='root',\n",
    "                     password='wht2010@',\n",
    "                     database='stu',\n",
    "                     charset='utf8')\n",
    "# 获取游标\n",
    "cur = db.cursor()\n",
    "\n",
    "sql = \"select image from class where name = 'imaitian'\"\n",
    "cur.execute(sql)\n",
    "data = cur.fetchone()\n",
    "\n",
    "with open('lf.jpg', 'wb') as f:\n",
    "    f.write(data[0])"
   ]
  },
  {
   "cell_type": "code",
   "execution_count": null,
   "id": "61f55286-a6e6-4630-aa35-ca208050cc0f",
   "metadata": {},
   "outputs": [],
   "source": []
  }
 ],
 "metadata": {
  "kernelspec": {
   "display_name": "Python 3 (ipykernel)",
   "language": "python",
   "name": "python3"
  },
  "language_info": {
   "codemirror_mode": {
    "name": "ipython",
    "version": 3
   },
   "file_extension": ".py",
   "mimetype": "text/x-python",
   "name": "python",
   "nbconvert_exporter": "python",
   "pygments_lexer": "ipython3",
   "version": "3.11.4"
  },
  "toc-autonumbering": true
 },
 "nbformat": 4,
 "nbformat_minor": 5
}
