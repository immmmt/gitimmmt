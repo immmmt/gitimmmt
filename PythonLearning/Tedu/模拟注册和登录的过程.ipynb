{
 "cells": [
  {
   "cell_type": "code",
   "execution_count": null,
   "id": "1b65a802-0473-4e75-a152-21a46ea216e7",
   "metadata": {},
   "outputs": [],
   "source": [
    "练习:\n",
    "1，编写一个而程序模拟注册和登录的过程\n",
    "\n",
    "*创建一个用户表包,含用户名和密码字段\n",
    " create table user (id int primary key auto_increment, name varchar(\n",
    "32) not null, password varchar(32) not null);\n",
    "\n",
    "*应用程序中模拟注册和登录功能\n",
    "\n",
    "注册则输入用户名密码将用户名密码存入到数据库(用户名不能重复)\n",
    "\n",
    "登录则进行数据库比对，如果有该用户则打印登录成功否则让重新输入"
   ]
  },
  {
   "cell_type": "code",
   "execution_count": 3,
   "id": "87104b82-740f-4ac5-8e69-11c48455fbcb",
   "metadata": {
    "tags": []
   },
   "outputs": [
    {
     "name": "stdout",
     "output_type": "stream",
     "text": [
      "\n",
      "        ===============\n",
      "        1.注册    2.登录\n",
      "        ===============\n",
      "    \n"
     ]
    },
    {
     "name": "stdin",
     "output_type": "stream",
     "text": [
      "请输入指令： 2\n",
      "用户名： imaitian\n",
      "密 码： 123456\n"
     ]
    },
    {
     "name": "stdout",
     "output_type": "stream",
     "text": [
      "登录成功！\n",
      "\n",
      "        ===============\n",
      "        1.注册    2.登录\n",
      "        ===============\n",
      "    \n"
     ]
    },
    {
     "name": "stdin",
     "output_type": "stream",
     "text": [
      "请输入指令： 1\n",
      "用户名： immmmt\n",
      "密 码： 123456\n"
     ]
    },
    {
     "name": "stdout",
     "output_type": "stream",
     "text": [
      "注册成功！\n",
      "\n",
      "        ===============\n",
      "        1.注册    2.登录\n",
      "        ===============\n",
      "    \n"
     ]
    },
    {
     "name": "stdin",
     "output_type": "stream",
     "text": [
      "请输入指令： 2\n",
      "用户名： immmmt\n",
      "密 码： 123456\n"
     ]
    },
    {
     "name": "stdout",
     "output_type": "stream",
     "text": [
      "登录成功！\n",
      "\n",
      "        ===============\n",
      "        1.注册    2.登录\n",
      "        ===============\n",
      "    \n"
     ]
    },
    {
     "name": "stdin",
     "output_type": "stream",
     "text": [
      "请输入指令： q\n"
     ]
    }
   ],
   "source": [
    "import pymysql\n",
    "import re\n",
    "import time\n",
    "\n",
    "\n",
    "# 连接数据库\n",
    "db = pymysql.connect(host='localhost',\n",
    "                     port=3306,\n",
    "                     user='root',\n",
    "                     password='wht2010@',\n",
    "                     database='stu',\n",
    "                     charset='utf8')\n",
    "# 获取游标\n",
    "cur = db.cursor()\n",
    "\n",
    "# 注册\n",
    "def register():\n",
    "    name = input('用户名：')\n",
    "    password = input('密 码：')\n",
    "    sql = \"select * from user where name = '%s'\" % name\n",
    "    cur.execute(sql)\n",
    "    data = cur.fetchone()\n",
    "    # 如果查询到，表示数据库里已经存在\n",
    "    if data:\n",
    "        return False\n",
    "    try:\n",
    "        sql = \"insert into user (name, password) values (%s, %s)\"\n",
    "        cur.execute(sql, [name, password])\n",
    "        db.commit()\n",
    "        return True\n",
    "    except Exception as e:\n",
    "        db.rollback()\n",
    "        print(e)\n",
    "        return False\n",
    "    \n",
    "# 登录\n",
    "def login():\n",
    "    name = input('用户名：')\n",
    "    password = input('密 码：')\n",
    "    sql = \"select * from user where name = '%s' and password = '%s'\" % (name, password)\n",
    "    cur.execute(sql)\n",
    "    result = cur.fetchone()\n",
    "    if result:\n",
    "        return True\n",
    "    \n",
    "while True:\n",
    "    print(\"\"\"\n",
    "        ===============\n",
    "        1.注册    2.登录\n",
    "        ===============\n",
    "    \"\"\")\n",
    "    cmd = input('请输入指令：')\n",
    "    if cmd == 'q':\n",
    "        break\n",
    "    if cmd == '1':\n",
    "        if register():\n",
    "            print('注册成功！')\n",
    "        else:\n",
    "            print('注册失败！')\n",
    "    elif cmd ==  '2':\n",
    "        if login():\n",
    "            print('登录成功！')\n",
    "        else:\n",
    "            print('登录失败！')\n",
    "    else:\n",
    "        print('输入有误，请重新输入！')\n",
    "\n",
    "    \n",
    "cur.close()\n",
    "db.close()"
   ]
  },
  {
   "cell_type": "code",
   "execution_count": null,
   "id": "6286a2dd-e61c-4215-a746-9b5a2e10f040",
   "metadata": {},
   "outputs": [],
   "source": []
  }
 ],
 "metadata": {
  "kernelspec": {
   "display_name": "Python 3 (ipykernel)",
   "language": "python",
   "name": "python3"
  },
  "language_info": {
   "codemirror_mode": {
    "name": "ipython",
    "version": 3
   },
   "file_extension": ".py",
   "mimetype": "text/x-python",
   "name": "python",
   "nbconvert_exporter": "python",
   "pygments_lexer": "ipython3",
   "version": "3.11.4"
  }
 },
 "nbformat": 4,
 "nbformat_minor": 5
}
