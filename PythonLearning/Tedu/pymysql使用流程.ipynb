{
 "cells": [
  {
   "cell_type": "code",
   "execution_count": null,
   "id": "9b7afbe0-cf8f-4d06-8a10-c96f24b7e836",
   "metadata": {},
   "outputs": [],
   "source": [
    "1.建立数据库连接(db = pymysql.connect(...))\n",
    "    db = pymysql.connect(参数列表)\n",
    "    host : 主机地址,本地 localhost\n",
    "    port :端口号,默认3306\n",
    "    user : 用户名\n",
    "    password :密码\n",
    "    database :库\n",
    "    charset : 编码方式,推荐使用 utf8\n",
    "    \n",
    "    db.commit() 提交到数据库执行\n",
    "    db.rollback() 回滚\n",
    "    cur = db.cursor() 返回游标对象,用于执行具体SQL命令\n",
    "    db.close() 关闭连接\n",
    "                     \n",
    "\n",
    "2.创建游标对象(c = db.cursor())\n",
    "    cur.execute(sql命令,[列表]) 执行SQL命令\n",
    "    cur.close()关闭游标对象\n",
    "    cur.fetchone()获取查询结果集的第一条数据(1,100001,\"河北”)\n",
    "    cur.fetchmany(n) 获取n条((记录1),(记录2))\n",
    "    cur.fetchall() 获取所有记录\n",
    "\n",
    "3.游标方法: c.execute(\"insert ....\")\n",
    "\n",
    "4.提交到数据库db.commit()\n",
    "\n",
    "5.关闭游标对象 : c.close()\n",
    "\n",
    "6.断开数据库连接 : db.close()"
   ]
  },
  {
   "cell_type": "markdown",
   "id": "d5e0bea2-4681-4711-8d67-043b0f7f2ec5",
   "metadata": {},
   "source": [
    "# PyMySQL写操作"
   ]
  },
  {
   "cell_type": "code",
   "execution_count": 2,
   "id": "e5e71f39-68c0-4606-9aa2-58e87d3f8343",
   "metadata": {
    "tags": []
   },
   "outputs": [],
   "source": [
    "import pymysql\n",
    "\n",
    "# 连接数据库\n",
    "db = pymysql.connect(host='localhost',\n",
    "                     port=3306,\n",
    "                     user='root',\n",
    "                     password='wht2010@',\n",
    "                     database='stu',\n",
    "                     charset='utf8')\n",
    "\n",
    "# 获取游标（用来操作数据库，执行sql语句）\n",
    "cur = db.cursor()\n",
    "\n",
    "# 写sql语句\n",
    "sql = \"insert into class values (5, 'immmt', 18, 'm', 80.8);\"\n",
    "# 执行sql语句\n",
    "cur.execute(sql)\n",
    "\n",
    "# 将写操作提交，多次写操作一同提交\n",
    "db.commit()\n",
    "\n",
    "# 关闭数据库\n",
    "cur.close()\n",
    "db.close()"
   ]
  },
  {
   "cell_type": "markdown",
   "id": "f090cfdd-123b-424c-8b88-81ba581bccac",
   "metadata": {},
   "source": [
    "# PyMySQL读操作"
   ]
  },
  {
   "cell_type": "code",
   "execution_count": 6,
   "id": "f5d50607-77f1-4d34-a49c-c189316294bd",
   "metadata": {},
   "outputs": [
    {
     "name": "stdout",
     "output_type": "stream",
     "text": [
      "((2, 'immt', 28, 'm', 92.2), (3, 'sutang', 38, 'm', 92.0), (5, 'immmt', 18, 'm', 80.8))\n"
     ]
    }
   ],
   "source": [
    "import pymysql\n",
    "\n",
    "# 连接数据库\n",
    "db = pymysql.connect(host='localhost',\n",
    "                     port=3306,\n",
    "                     user='root',\n",
    "                     password='wht2010@',\n",
    "                     database='stu',\n",
    "                     charset='utf8')\n",
    "\n",
    "# 获取游标（用来操作数据库，执行sql语句）\n",
    "cur = db.cursor()\n",
    "\n",
    "# 获取数据库数据\n",
    "sql = \"select * from class where gender='m'\"\n",
    "cur.execute(sql)\n",
    "\n",
    "# 获取一个查询结果\n",
    "# one_row = cur.fetchone()\n",
    "# print(one_row)\n",
    "\n",
    "# 获取多个查询结果\n",
    "# many_row = cur.fetchmany(2)\n",
    "# print(many_row)\n",
    "\n",
    "# 获取全部查询结果\n",
    "all_row = cur.fetchall()\n",
    "print(all_row)\n",
    "\n",
    "# 关闭数据库\n",
    "cur.close()\n",
    "db.close()"
   ]
  },
  {
   "cell_type": "markdown",
   "id": "0d288b6e-cacf-4521-94ce-816dcce3eb11",
   "metadata": {},
   "source": [
    "# PyMySQL写操作"
   ]
  },
  {
   "cell_type": "markdown",
   "id": "caabcd0e-881d-46a2-a3de-962401f2466c",
   "metadata": {},
   "source": [
    "## 方法1，将变量插入到sql语句中合成"
   ]
  },
  {
   "cell_type": "code",
   "execution_count": 7,
   "id": "7af79489-f41c-4bc7-8360-9eecf633c2df",
   "metadata": {
    "tags": []
   },
   "outputs": [
    {
     "name": "stdin",
     "output_type": "stream",
     "text": [
      "Name: Alex\n",
      "Age: 24\n",
      "Score: 98.2\n"
     ]
    }
   ],
   "source": [
    "import pymysql\n",
    "\n",
    "# 连接数据库\n",
    "db = pymysql.connect(host='localhost',\n",
    "                     port=3306,\n",
    "                     user='root',\n",
    "                     password='wht2010@',\n",
    "                     database='stu',\n",
    "                     charset='utf8')\n",
    "\n",
    "# 获取游标（用来操作数据库，执行sql语句）\n",
    "cur = db.cursor()\n",
    "\n",
    "try:\n",
    "    # 写sql语句\n",
    "    # sql = \"insert into class values (6, 'Tina', 28, 'w', 88.8);\"\n",
    "    name = input('Name:')\n",
    "    age = int(input('Age:'))\n",
    "    score = float(input('Score:'))\n",
    "    # 传参数的时候，sql语句里有引号的需要继续加上\n",
    "    sql = f\"insert into class (name, age, score) values ('{name}', {age}, {score})\"\n",
    "    # 执行sql语句\n",
    "    cur.execute(sql)\n",
    "    # 提交\n",
    "    db.commit()\n",
    "except Exception as e:\n",
    "    db.rollback()\n",
    "    print(e)\n",
    "\n",
    "\n",
    "# 关闭数据库\n",
    "cur.close()\n",
    "db.close()"
   ]
  },
  {
   "cell_type": "markdown",
   "id": "fbb207a0-7447-474f-ba8f-9a67d80b034c",
   "metadata": {},
   "source": [
    "## 方法2，使用列表直接给sql语句的values传值"
   ]
  },
  {
   "cell_type": "code",
   "execution_count": 8,
   "id": "d64a90fe-f3d7-4bc6-9c56-cf729cd63785",
   "metadata": {
    "tags": []
   },
   "outputs": [
    {
     "name": "stdin",
     "output_type": "stream",
     "text": [
      "Name: Tom\n",
      "Age: 32\n",
      "Score: 86.3\n"
     ]
    }
   ],
   "source": [
    "import pymysql\n",
    "\n",
    "# 连接数据库\n",
    "db = pymysql.connect(host='localhost',\n",
    "                     port=3306,\n",
    "                     user='root',\n",
    "                     password='wht2010@',\n",
    "                     database='stu',\n",
    "                     charset='utf8')\n",
    "\n",
    "# 获取游标（用来操作数据库，执行sql语句）\n",
    "cur = db.cursor()\n",
    "\n",
    "try:\n",
    "    # 写sql语句\n",
    "    # sql = \"insert into class values (6, 'Tina', 28, 'w', 88.8);\"\n",
    "    name = input('Name:')\n",
    "    age = input('Age:')\n",
    "    score = input('Score:')\n",
    "    # 传参数的时候，sql语句里有引号的需要继续加上\n",
    "    sql = \"insert into class (name, age, score) values (%s, %s, %s)\"\n",
    "    # 执行sql语句,给values的%s传值\n",
    "    cur.execute(sql,[name, age, score])\n",
    "    # 提交\n",
    "    db.commit()\n",
    "except Exception as e:\n",
    "    db.rollback()\n",
    "    print(e)\n",
    "\n",
    "\n",
    "# 关闭数据库\n",
    "cur.close()\n",
    "db.close()"
   ]
  },
  {
   "cell_type": "markdown",
   "id": "aafedc43-8be8-4237-80a6-f6f08b01d827",
   "metadata": {},
   "source": [
    " # PyMySQL修改操作"
   ]
  },
  {
   "cell_type": "code",
   "execution_count": 10,
   "id": "295864f7-9023-436f-96a3-4abf3bc988d2",
   "metadata": {
    "tags": []
   },
   "outputs": [],
   "source": [
    "import pymysql\n",
    "\n",
    "# 连接数据库\n",
    "db = pymysql.connect(host='localhost',\n",
    "                     port=3306,\n",
    "                     user='root',\n",
    "                     password='wht2010@',\n",
    "                     database='stu',\n",
    "                     charset='utf8')\n",
    "\n",
    "# 获取游标（用来操作数据库，执行sql语句）\n",
    "cur = db.cursor()\n",
    "\n",
    "try:\n",
    "    # 写sql语句\n",
    "    sql = \"update class set gender='m' where name = 'Alex'\"\n",
    "    cur.execute(sql)\n",
    "    db.commit()\n",
    "except Exception as e:\n",
    "    db.rollback()\n",
    "    print(e)\n",
    "\n",
    "\n",
    "# 关闭数据库\n",
    "cur.close()\n",
    "db.close()"
   ]
  },
  {
   "cell_type": "markdown",
   "id": "565f7fde-3b6e-4b19-b511-251a8bd36eb7",
   "metadata": {},
   "source": [
    "# PyMySQL删除操作"
   ]
  },
  {
   "cell_type": "code",
   "execution_count": 11,
   "id": "f4ab3082-f186-4861-97de-7237ad7acdb2",
   "metadata": {
    "tags": []
   },
   "outputs": [],
   "source": [
    "import pymysql\n",
    "\n",
    "# 连接数据库\n",
    "db = pymysql.connect(host='localhost',\n",
    "                     port=3306,\n",
    "                     user='root',\n",
    "                     password='wht2010@',\n",
    "                     database='stu',\n",
    "                     charset='utf8')\n",
    "\n",
    "# 获取游标（用来操作数据库，执行sql语句）\n",
    "cur = db.cursor()\n",
    "\n",
    "try:\n",
    "    # 写sql语句\n",
    "    sql = \"delete from class where score < 87\"\n",
    "    cur.execute(sql)\n",
    "    db.commit()\n",
    "except Exception as e:\n",
    "    db.rollback()\n",
    "    print(e)\n",
    "\n",
    "\n",
    "# 关闭数据库\n",
    "cur.close()\n",
    "db.close()"
   ]
  },
  {
   "cell_type": "code",
   "execution_count": null,
   "id": "9d68eafe-cedd-4975-8390-6152432beea9",
   "metadata": {},
   "outputs": [],
   "source": []
  }
 ],
 "metadata": {
  "kernelspec": {
   "display_name": "Python 3 (ipykernel)",
   "language": "python",
   "name": "python3"
  },
  "language_info": {
   "codemirror_mode": {
    "name": "ipython",
    "version": 3
   },
   "file_extension": ".py",
   "mimetype": "text/x-python",
   "name": "python",
   "nbconvert_exporter": "python",
   "pygments_lexer": "ipython3",
   "version": "3.11.4"
  },
  "toc-autonumbering": true
 },
 "nbformat": 4,
 "nbformat_minor": 5
}
